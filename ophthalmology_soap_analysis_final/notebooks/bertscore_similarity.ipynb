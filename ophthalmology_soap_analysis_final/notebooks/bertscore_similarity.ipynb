{
 "cells": [
  {
   "cell_type": "markdown",
   "id": "7b27b006",
   "metadata": {},
   "source": [
    "# BERTScore Similarity Analysis\n",
    "\n",
    "This notebook computes BERTScore similarity metrics for pairs of generated SOAP notes (clean vs. adversarial). It reads notes from the `data/` directory and saves results in the `results/` directory."
   ]
  },
  {
   "cell_type": "code",
   "execution_count": null,
   "id": "b051ca9f",
   "metadata": {},
   "outputs": [],
   "source": [
    "import os\n",
    "import pandas as pd\n",
    "from bert_score import score as bertscore\n",
    "\n",
    "# Define base directory for data and results\n",
    "BASE_FOLDER = '../data'\n",
    "RESULTS_FOLDER = '../results'\n",
    "\n",
    "# List of clean/adversarial note file pairs (update if more pairs added)\n",
    "note_pairs = [\n",
    "    (\"1_CLEAN_soap_notes.txt\", \"1_ADV_soap_notes.txt\"),\n",
    "    (\"2_CLEAN_soap_notes.txt\", \"2_ADV_soap_notes.txt\")\n",
    "]\n",
    "\n",
    "# Load note texts\n",
    "clean_texts = []\n",
    "adversarial_texts = []\n",
    "for clean_file, adv_file in note_pairs:\n",
    "    with open(os.path.join(BASE_FOLDER, clean_file), 'r', encoding='utf-8') as f:\n",
    "        clean_texts.append(f.read())\n",
    "    with open(os.path.join(BASE_FOLDER, adv_file), 'r', encoding='utf-8') as f:\n",
    "        adversarial_texts.append(f.read())\n",
    "\n",
    "print(f\"Loaded {len(clean_texts)} clean notes and {len(adversarial_texts)} adversarial notes.\")\n"
   ]
  },
  {
   "cell_type": "code",
   "execution_count": null,
   "id": "8fa77bac",
   "metadata": {},
   "outputs": [],
   "source": [
    "# Compute BERTScore metrics\n",
    "P, R, F1 = bertscore(adversarial_texts, clean_texts, model_type='emilyalsentzer/Bio_ClinicalBERT', device='cpu')\n",
    "\n",
    "# Create DataFrame of results\n",
    "results_df = pd.DataFrame({\n",
    "    'pair': [f'Pair {i+1}' for i in range(len(clean_texts))],\n",
    "    'precision': P.tolist(),\n",
    "    'recall': R.tolist(),\n",
    "    'f1': F1.tolist()\n",
    "})\n",
    "\n",
    "# Display results\n",
    "results_df\n"
   ]
  },
  {
   "cell_type": "code",
   "execution_count": null,
   "id": "053b47f2",
   "metadata": {},
   "outputs": [],
   "source": [
    "# Save BERTScore results to CSV\n",
    "os.makedirs(RESULTS_FOLDER, exist_ok=True)\n",
    "output_path = os.path.join(RESULTS_FOLDER, 'bertscore_results.csv')\n",
    "results_df.to_csv(output_path, index=False)\n",
    "print(f'Saved BERTScore results to {output_path}')\n"
   ]
  }
 ],
 "metadata": {
  "language_info": {
   "name": "python"
  }
 },
 "nbformat": 4,
 "nbformat_minor": 5
}
